{
  "nbformat": 4,
  "nbformat_minor": 0,
  "metadata": {
    "colab": {
      "name": "breastcancerwisconsinkaggle.ipynb",
      "provenance": [],
      "collapsed_sections": []
    },
    "kernelspec": {
      "name": "python3",
      "display_name": "Python 3"
    }
  },
  "cells": [
    {
      "cell_type": "code",
      "metadata": {
        "id": "u71hQJkqYuIm",
        "colab_type": "code",
        "colab": {}
      },
      "source": [
        "# performing linear algebra \n",
        "import numpy as np \n",
        "\n",
        "# data processing \n",
        "import pandas as pd \n",
        "\n",
        "# visualisation \n",
        "import matplotlib.pyplot as plt "
      ],
      "execution_count": 0,
      "outputs": []
    },
    {
      "cell_type": "code",
      "metadata": {
        "id": "04YBB-R8Zf7M",
        "colab_type": "code",
        "colab": {
          "base_uri": "https://localhost:8080/",
          "height": 266
        },
        "outputId": "393bfe55-e18e-4d6d-8aa8-4cd4ce5df335"
      },
      "source": [
        "data = pd.read_csv(\"data.csv\") \n",
        "\n",
        "print (data.head) "
      ],
      "execution_count": 86,
      "outputs": [
        {
          "output_type": "stream",
          "text": [
            "<bound method NDFrame.head of            id diagnosis  ...  fractal_dimension_worst  Unnamed: 32\n",
            "0      842302         M  ...                  0.11890          NaN\n",
            "1      842517         M  ...                  0.08902          NaN\n",
            "2    84300903         M  ...                  0.08758          NaN\n",
            "3    84348301         M  ...                  0.17300          NaN\n",
            "4    84358402         M  ...                  0.07678          NaN\n",
            "..        ...       ...  ...                      ...          ...\n",
            "564    926424         M  ...                  0.07115          NaN\n",
            "565    926682         M  ...                  0.06637          NaN\n",
            "566    926954         M  ...                  0.07820          NaN\n",
            "567    927241         M  ...                  0.12400          NaN\n",
            "568     92751         B  ...                  0.07039          NaN\n",
            "\n",
            "[569 rows x 33 columns]>\n"
          ],
          "name": "stdout"
        }
      ]
    },
    {
      "cell_type": "code",
      "metadata": {
        "id": "W25qHZ_pZg1u",
        "colab_type": "code",
        "colab": {
          "base_uri": "https://localhost:8080/",
          "height": 692
        },
        "outputId": "71cfa1c3-4e61-48bc-b3fe-b8d9be378d97"
      },
      "source": [
        "data.info() "
      ],
      "execution_count": 87,
      "outputs": [
        {
          "output_type": "stream",
          "text": [
            "<class 'pandas.core.frame.DataFrame'>\n",
            "RangeIndex: 569 entries, 0 to 568\n",
            "Data columns (total 33 columns):\n",
            "id                         569 non-null int64\n",
            "diagnosis                  569 non-null object\n",
            "radius_mean                569 non-null float64\n",
            "texture_mean               569 non-null float64\n",
            "perimeter_mean             569 non-null float64\n",
            "area_mean                  569 non-null float64\n",
            "smoothness_mean            569 non-null float64\n",
            "compactness_mean           569 non-null float64\n",
            "concavity_mean             569 non-null float64\n",
            "concave points_mean        569 non-null float64\n",
            "symmetry_mean              569 non-null float64\n",
            "fractal_dimension_mean     569 non-null float64\n",
            "radius_se                  569 non-null float64\n",
            "texture_se                 569 non-null float64\n",
            "perimeter_se               569 non-null float64\n",
            "area_se                    569 non-null float64\n",
            "smoothness_se              569 non-null float64\n",
            "compactness_se             569 non-null float64\n",
            "concavity_se               569 non-null float64\n",
            "concave points_se          569 non-null float64\n",
            "symmetry_se                569 non-null float64\n",
            "fractal_dimension_se       569 non-null float64\n",
            "radius_worst               569 non-null float64\n",
            "texture_worst              569 non-null float64\n",
            "perimeter_worst            569 non-null float64\n",
            "area_worst                 569 non-null float64\n",
            "smoothness_worst           569 non-null float64\n",
            "compactness_worst          569 non-null float64\n",
            "concavity_worst            569 non-null float64\n",
            "concave points_worst       569 non-null float64\n",
            "symmetry_worst             569 non-null float64\n",
            "fractal_dimension_worst    569 non-null float64\n",
            "Unnamed: 32                0 non-null float64\n",
            "dtypes: float64(31), int64(1), object(1)\n",
            "memory usage: 146.8+ KB\n"
          ],
          "name": "stdout"
        }
      ]
    },
    {
      "cell_type": "code",
      "metadata": {
        "id": "h7qDtzPfZjmC",
        "colab_type": "code",
        "colab": {}
      },
      "source": [
        "data.drop(['Unnamed: 32', 'id'], axis = 1) \n",
        "data.diagnosis = [1 if each == \"M\" else 0 for each in data.diagnosis] "
      ],
      "execution_count": 0,
      "outputs": []
    },
    {
      "cell_type": "code",
      "metadata": {
        "id": "XbcQlIuVZnVQ",
        "colab_type": "code",
        "colab": {
          "base_uri": "https://localhost:8080/",
          "height": 266
        },
        "outputId": "d65abad1-3485-4b2a-9a8c-d65f2decb2c7"
      },
      "source": [
        "y = data.diagnosis.values \n",
        "x_data = data.drop(['diagnosis'], axis = 1) \n",
        "#normalization\n",
        "x = (x_data - np.min(x_data))/(np.max(x_data) - np.min(x_data)).values \n",
        "x = x.loc[:, ~x.columns.str.contains('^Unnamed')]\n",
        "print(x)"
      ],
      "execution_count": 89,
      "outputs": [
        {
          "output_type": "stream",
          "text": [
            "           id  radius_mean  ...  symmetry_worst  fractal_dimension_worst\n",
            "0    0.000915     0.521037  ...        0.598462                 0.418864\n",
            "1    0.000915     0.643144  ...        0.233590                 0.222878\n",
            "2    0.092495     0.601496  ...        0.403706                 0.213433\n",
            "3    0.092547     0.210090  ...        1.000000                 0.773711\n",
            "4    0.092559     0.629893  ...        0.157500                 0.142595\n",
            "..        ...          ...  ...             ...                      ...\n",
            "564  0.001007     0.690000  ...        0.097575                 0.105667\n",
            "565  0.001007     0.622320  ...        0.198502                 0.074315\n",
            "566  0.001008     0.455251  ...        0.128721                 0.151909\n",
            "567  0.001008     0.644564  ...        0.497142                 0.452315\n",
            "568  0.000092     0.036869  ...        0.257441                 0.100682\n",
            "\n",
            "[569 rows x 31 columns]\n"
          ],
          "name": "stdout"
        }
      ]
    },
    {
      "cell_type": "code",
      "metadata": {
        "id": "xlehOfkdZurI",
        "colab_type": "code",
        "colab": {
          "base_uri": "https://localhost:8080/",
          "height": 88
        },
        "outputId": "37f1ed0f-cf04-430a-bd53-7c0c1340e261"
      },
      "source": [
        "from sklearn.model_selection import train_test_split \n",
        "x_train, x_test, y_train, y_test = train_test_split( \n",
        "\tx, y, test_size = 0.15, random_state = 42) \n",
        "\n",
        "x_train = x_train.T \n",
        "x_test = x_test.T \n",
        "y_train = y_train.T \n",
        "y_test = y_test.T \n",
        "\n",
        "print(\"x train: \", x_train.shape) \n",
        "print(\"x test: \", x_test.shape) \n",
        "print(\"y train: \", y_train.shape) \n",
        "print(\"y test: \", y_test.shape) "
      ],
      "execution_count": 90,
      "outputs": [
        {
          "output_type": "stream",
          "text": [
            "x train:  (31, 483)\n",
            "x test:  (31, 86)\n",
            "y train:  (483,)\n",
            "y test:  (86,)\n"
          ],
          "name": "stdout"
        }
      ]
    },
    {
      "cell_type": "code",
      "metadata": {
        "id": "iOIlJCUaZvkG",
        "colab_type": "code",
        "colab": {}
      },
      "source": [
        "def initialize_weights_and_bias(dimension): \n",
        "\tw = np.full((dimension, 1), 0.01) \n",
        "\tb = 0.0\n",
        "\treturn w, b"
      ],
      "execution_count": 0,
      "outputs": []
    },
    {
      "cell_type": "code",
      "metadata": {
        "id": "oXYVwoSzfEYy",
        "colab_type": "code",
        "colab": {}
      },
      "source": [
        "def sigmoid(z):\n",
        "  y_head = 1/(1+np.exp(-z))\n",
        "  return y_head"
      ],
      "execution_count": 0,
      "outputs": []
    },
    {
      "cell_type": "code",
      "metadata": {
        "id": "k0hxc4ATZ3KE",
        "colab_type": "code",
        "colab": {}
      },
      "source": [
        "def forward_backward_propagation(w, b, x_train, y_train):\n",
        "  z = np.dot(w.T, x_train) + b\n",
        "  y_head = sigmoid(z)\n",
        "  loss = -y_train * np.log(y_head) - (1 - y_train) * np.log(1 - y_head)\n",
        "  cost = (np.sum(loss)) / x_train.shape[1]\n",
        "  derivative_weight = (np.dot(x_train, ((y_head - y_train).T))) / x_train.shape[1]\n",
        "  derivative_bias = np.sum(y_head-y_train) / x_train.shape[1]\n",
        "  gradients = {\"derivative_weight\": derivative_weight, \"derivative_bias\": derivative_bias}\n",
        "  return cost, gradients"
      ],
      "execution_count": 0,
      "outputs": []
    },
    {
      "cell_type": "code",
      "metadata": {
        "id": "ECNG-4aQZ53c",
        "colab_type": "code",
        "colab": {}
      },
      "source": [
        "def update(w, b, x_train, y_train, learning_rate, number_of_iterarion): \n",
        "\tcost_list = [] \n",
        "\tcost_list2 = [] \n",
        "\tindex = [] \n",
        "\n",
        "\t# updating(learning) parameters is number_of_iterarion times \n",
        "\tfor i in range(number_of_iterarion): \n",
        "\t\t# make forward and backward propagation and find cost and gradients \n",
        "\t\tcost, gradients = forward_backward_propagation(w, b, x_train, y_train) \n",
        "\t\tcost_list.append(cost) \n",
        "\n",
        "\t\t# lets update \n",
        "\t\tw = w - learning_rate * gradients[\"derivative_weight\"] \n",
        "\t\tb = b - learning_rate * gradients[\"derivative_bias\"] \n",
        "\t\tif i % 10 == 0: \n",
        "\t\t\tcost_list2.append(cost) \n",
        "\t\t\tindex.append(i) \n",
        "\t\t\tprint (\"Cost after iteration % i: % f\" %(i, cost)) \n",
        "\n",
        "\t# update(learn) parameters weights and bias \n",
        "\tparameters = {\"weight\": w, \"bias\": b} \n",
        "\tplt.plot(index, cost_list2) \n",
        "\tplt.xticks(index, rotation ='vertical') \n",
        "\tplt.xlabel(\"Number of Iterarion\") \n",
        "\tplt.ylabel(\"Cost\") \n",
        "\tplt.show() \n",
        "\treturn parameters, gradients, cost_list "
      ],
      "execution_count": 0,
      "outputs": []
    },
    {
      "cell_type": "code",
      "metadata": {
        "id": "2Mm-IHSGZ8vA",
        "colab_type": "code",
        "colab": {}
      },
      "source": [
        "def predict(w, b, x_test): \n",
        "\t# x_test is a input for forward propagation \n",
        "\tz = sigmoid(np.dot(w.T, x_test)+b) \n",
        "\tY_prediction = np.zeros((1, x_test.shape[1])) \n",
        "\n",
        "\t# if z is bigger than 0.5, our prediction is sign one (y_head = 1), \n",
        "\t# if z is smaller than 0.5, our prediction is sign zero (y_head = 0), \n",
        "\tfor i in range(z.shape[1]): \n",
        "\t\tif z[0, i]<= 0.5: \n",
        "\t\t\tY_prediction[0, i] = 0\n",
        "\t\telse: \n",
        "\t\t\tY_prediction[0, i] = 1\n",
        "\n",
        "\treturn Y_prediction "
      ],
      "execution_count": 0,
      "outputs": []
    },
    {
      "cell_type": "code",
      "metadata": {
        "id": "C1ASJN-mZ_uT",
        "colab_type": "code",
        "colab": {
          "base_uri": "https://localhost:8080/",
          "height": 495
        },
        "outputId": "dfc95d5a-5f79-4a5d-8833-3e2e5eb0dd4f"
      },
      "source": [
        "def logistic_regression(x_train, y_train, x_test, y_test, learning_rate, num_iterations): \n",
        "\n",
        "\tdimension = x_train.shape[0] \n",
        "\tw, b = initialize_weights_and_bias(dimension) \n",
        "\t\n",
        "\tparameters, gradients, cost_list = update(w, b, x_train, y_train, learning_rate, num_iterations) \n",
        "\t\n",
        "\ty_prediction_test = predict(parameters[\"weight\"], parameters[\"bias\"], x_test) \n",
        "\ty_prediction_train = predict(parameters[\"weight\"], parameters[\"bias\"], x_train) \n",
        "\t# train / test Errors \n",
        "\tprint(\"train accuracy: {} %\".format(100 - np.mean(np.abs(y_prediction_train - y_train)) * 100)) \n",
        "\tprint(\"test accuracy: {} %\".format(100 - np.mean(np.abs(y_prediction_test - y_test)) * 100)) \n",
        "\t\n",
        "logistic_regression(x_train, y_train, x_test, y_test, learning_rate = 1, num_iterations = 100) "
      ],
      "execution_count": 96,
      "outputs": [
        {
          "output_type": "stream",
          "text": [
            "Cost after iteration  0:  0.692850\n",
            "Cost after iteration  10:  0.498577\n",
            "Cost after iteration  20:  0.404995\n",
            "Cost after iteration  30:  0.350056\n",
            "Cost after iteration  40:  0.313742\n",
            "Cost after iteration  50:  0.287759\n",
            "Cost after iteration  60:  0.268105\n",
            "Cost after iteration  70:  0.252615\n",
            "Cost after iteration  80:  0.240021\n",
            "Cost after iteration  90:  0.229525\n"
          ],
          "name": "stdout"
        },
        {
          "output_type": "display_data",
          "data": {
            "image/png": "[encoded data removed]",
            "text/plain": [
              "<Figure size 432x288 with 1 Axes>"
            ]
          },
          "metadata": {
            "tags": []
          }
        },
        {
          "output_type": "stream",
          "text": [
            "train accuracy: 94.40993788819875 %\n",
            "test accuracy: 94.18604651162791 %\n"
          ],
          "name": "stdout"
        }
      ]
    },
    {
      "cell_type": "code",
      "metadata": {
        "id": "L8WKe-5viS-n",
        "colab_type": "code",
        "colab": {
          "base_uri": "https://localhost:8080/",
          "height": 52
        },
        "outputId": "3f484865-e6a2-4825-fc8d-86886900ba38"
      },
      "source": [
        "from sklearn import linear_model \n",
        "logreg = linear_model.LogisticRegression(random_state = 42, max_iter = 150) \n",
        "print(\"test accuracy: {} \".format( \n",
        "\tlogreg.fit(x_train.T, y_train.T).score(x_test.T, y_test.T))) \n",
        "print(\"train accuracy: {} \".format( \n",
        "\tlogreg.fit(x_train.T, y_train.T).score(x_train.T, y_train.T))) "
      ],
      "execution_count": 97,
      "outputs": [
        {
          "output_type": "stream",
          "text": [
            "test accuracy: 0.9767441860465116 \n",
            "train accuracy: 0.968944099378882 \n"
          ],
          "name": "stdout"
        }
      ]
    }
  ]
}